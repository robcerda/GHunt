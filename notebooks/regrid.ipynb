{
  "nbformat": 4,
  "nbformat_minor": 0,
  "metadata": {
    "colab": {
      "provenance": [],
      "authorship_tag": "ABX9TyOyrJyTwHCL/h2Jj+WAJ03p",
      "include_colab_link": true
    },
    "kernelspec": {
      "name": "python3",
      "display_name": "Python 3"
    },
    "language_info": {
      "name": "python"
    }
  },
  "cells": [
    {
      "cell_type": "markdown",
      "metadata": {
        "id": "view-in-github",
        "colab_type": "text"
      },
      "source": [
        "<a href=\"https://colab.research.google.com/github/robcerda/GHunt/blob/master/notebooks/regrid.ipynb\" target=\"_parent\"><img src=\"https://colab.research.google.com/assets/colab-badge.svg\" alt=\"Open In Colab\"/></a>"
      ]
    },
    {
      "cell_type": "code",
      "execution_count": null,
      "metadata": {
        "colab": {
          "base_uri": "https://localhost:8080/"
        },
        "id": "epGUeHwNGUd0",
        "outputId": "97a6abd8-d4f9-49c5-defb-a6fa1deac126"
      },
      "outputs": [
        {
          "output_type": "stream",
          "name": "stdout",
          "text": [
            "{\"status\":\"error\",\"message\":\"Query execution exceeded timeout\"}\n"
          ]
        }
      ],
      "source": [
        "import requests\n",
        "\n",
        "url = \"https://app.regrid.com/api/v2/parcels/query?fields[owner][ilike]=\\\"Yujia Real Estate\\\"&token=1SnpL7AQekjA4mH2vqUmkGm9AAfQxi_6mxwdm4qDzo_C-xSTx9z3pd9rTsRWDWV4\"\n",
        "\n",
        "payload = {}\n",
        "response = requests.request(\"GET\", url, data=payload)\n",
        "\n",
        "print(response.text)\n"
      ]
    }
  ]
}